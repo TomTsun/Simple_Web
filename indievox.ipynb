{
 "cells": [
  {
   "cell_type": "code",
   "execution_count": 91,
   "metadata": {},
   "outputs": [],
   "source": [
    "from selenium import webdriver\n",
    "from selenium.webdriver.common.by import By\n",
    "from selenium.webdriver.chrome.service import Service as ChromeService\n",
    "from webdriver_manager.chrome import ChromeDriverManager\n",
    "import time\n",
    "import pandas as pd\n",
    "from cnocr import CnOcr\n",
    "import numpy as np\n",
    "import cv2"
   ]
  },
  {
   "cell_type": "code",
   "execution_count": 92,
   "metadata": {},
   "outputs": [],
   "source": [
    "# 自動下載ChromeDriver\n",
    "service = ChromeService(executable_path=ChromeDriverManager().install())\n",
    "\n",
    "# 關閉通知提醒 pip install webdriver-manager --upgrade\n",
    "chrome_options = webdriver.ChromeOptions()\n",
    "# chrome_options.add_argument('blink-settings=imagesEnabled=false') \n",
    "prefs = {\"profile.default_content_setting_values.notifications\" : 2}\n",
    "chrome_options.add_experimental_option(\"prefs\",prefs)\n",
    "\n",
    "url = 'https://www.indievox.com/activity/detail/23_iv02706f5'\n",
    "driver = webdriver.Chrome(service=service, options=chrome_options)\n",
    "driver.get(url)"
   ]
  },
  {
   "cell_type": "code",
   "execution_count": 93,
   "metadata": {},
   "outputs": [],
   "source": [
    "C = driver.find_element(By.XPATH, value='//*[@id=\"content\"]/div[1]/div[2]/ul/li/a')\n",
    "C.click()"
   ]
  },
  {
   "cell_type": "code",
   "execution_count": 94,
   "metadata": {},
   "outputs": [],
   "source": [
    "time.sleep(2)\n",
    "D = driver.find_element(By.XPATH, value='//*[@id=\"gameList\"]/table/tbody/tr/td[4]/button')\n",
    "D.click()"
   ]
  },
  {
   "cell_type": "code",
   "execution_count": 95,
   "metadata": {},
   "outputs": [
    {
     "name": "stdout",
     "output_type": "stream",
     "text": [
      "Umie\n"
     ]
    }
   ],
   "source": [
    "ocr = CnOcr(det_model_name='en_PP-OCRv3_det', rec_model_name='en_PP-OCRv3') \n",
    "\n",
    "# 使用 XPath 找到圖片元素\n",
    "image_element = driver.find_element(By.XPATH, value='//*[@id=\"TicketForm_verifyCode-image\"]')\n",
    "\n",
    "# 獲取圖片的 src 屬性\n",
    "image_src = image_element.get_attribute(\"src\")\n",
    "\n",
    "time.sleep(2)\n",
    "# 下載圖片\n",
    "driver.get(image_src)\n",
    "\n",
    "# 將圖片內容轉換為 NumPy 陣列\n",
    "screenshot = driver.get_screenshot_as_png()\n",
    "image_content = np.frombuffer(screenshot, dtype=np.uint8)\n",
    "image = cv2.imdecode(image_content, cv2.IMREAD_COLOR)\n",
    "image_np = np.array(image)\n",
    "out = ocr.ocr(image)\n",
    "print(out[0]['text'])\n",
    "driver.back()"
   ]
  },
  {
   "cell_type": "code",
   "execution_count": 96,
   "metadata": {},
   "outputs": [],
   "source": [
    "from selenium.webdriver.support.ui import Select\n",
    "# time.sleep(1)\n",
    "dropdown = driver.find_element(By.XPATH, '//*[@id=\"TicketForm_ticketPrice_01\"]')\n",
    "select = Select(dropdown)\n",
    "# 選擇下拉框中的選項（根據索引）\n",
    "select.select_by_index(1)  # 選擇第二個選項（索引從 0 開始）"
   ]
  },
  {
   "cell_type": "code",
   "execution_count": 97,
   "metadata": {},
   "outputs": [],
   "source": [
    "from selenium.webdriver.common.keys import Keys\n",
    "\n",
    "check_box = driver.find_element(By.XPATH, value = '//*[@id=\"TicketForm_agree\"]')\n",
    "check_box.click()\n",
    "\n",
    "# 定位到輸入框元素\n",
    "search_box = driver.find_element(By.XPATH, value = '//*[@id=\"TicketForm_verifyCode\"]')  # 假設這是搜尋框的名字\n",
    "\n",
    "# 在輸入框中輸入文字\n",
    "search_box.send_keys(out[0]['text'])\n",
    "\n",
    "# 也可以模擬按下 Enter 鍵\n",
    "search_box.send_keys(Keys.RETURN)"
   ]
  }
 ],
 "metadata": {
  "kernelspec": {
   "display_name": "sun",
   "language": "python",
   "name": "python3"
  },
  "language_info": {
   "codemirror_mode": {
    "name": "ipython",
    "version": 3
   },
   "file_extension": ".py",
   "mimetype": "text/x-python",
   "name": "python",
   "nbconvert_exporter": "python",
   "pygments_lexer": "ipython3",
   "version": "3.9.18"
  }
 },
 "nbformat": 4,
 "nbformat_minor": 2
}
